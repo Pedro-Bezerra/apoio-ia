{
 "cells": [
  {
   "cell_type": "code",
   "execution_count": 2,
   "metadata": {},
   "outputs": [],
   "source": [
    "from tensorflow.keras.utils import to_categorical\n",
    "from tensorflow.keras import layers, models\n",
    "import keras_tuner as kt\n",
    "import tensorflow as tf\n",
    "import numpy as np"
   ]
  },
  {
   "cell_type": "code",
   "execution_count": 5,
   "metadata": {},
   "outputs": [
    {
     "name": "stdout",
     "output_type": "stream",
     "text": [
      "(27771, 4096)\n",
      "(6943, 4096)\n",
      "(11548, 4096)\n"
     ]
    }
   ],
   "source": [
    "# Carregar os dados preparados\n",
    "x_treino = np.load('x_treino.npy')  # Carrega as imagens de treinamento\n",
    "y_treino = np.load('y_treino.npy')  # Carrega os rótulos de treinamento\n",
    "z_treino = np.load('z_treino.npy')\n",
    "\n",
    "x_validacao = np.load('x_validacao.npy')  # Carrega as imagens de validação\n",
    "y_validacao = np.load('y_validacao.npy')  # Carrega os rótulos de validação\n",
    "z_validacao = np.load('z_validacao.npy')\n",
    "\n",
    "x_teste = np.load('x_teste.npy')  # Carrega as imagens de teste\n",
    "y_teste = np.load('y_teste.npy')  # Carrega os rótulos de teste\n",
    "z_teste = np.load('z_teste.npy')\n",
    "\n",
    "print(np.shape(x_treino))\n",
    "print(np.shape(x_validacao))\n",
    "print(np.shape(x_teste))"
   ]
  },
  {
   "cell_type": "code",
   "execution_count": null,
   "metadata": {},
   "outputs": [
    {
     "ename": "IndexError",
     "evalue": "index 20 is out of bounds for axis 1 with size 20",
     "output_type": "error",
     "traceback": [
      "\u001b[1;31m---------------------------------------------------------------------------\u001b[0m",
      "\u001b[1;31mIndexError\u001b[0m                                Traceback (most recent call last)",
      "Cell \u001b[1;32mIn[10], line 2\u001b[0m\n\u001b[0;32m      1\u001b[0m \u001b[38;5;66;03m# Convertendo os rótulos para one-hot encoding\u001b[39;00m\n\u001b[1;32m----> 2\u001b[0m y_treino \u001b[38;5;241m=\u001b[39m \u001b[43mto_categorical\u001b[49m\u001b[43m(\u001b[49m\u001b[43mz_treino\u001b[49m\u001b[43m,\u001b[49m\u001b[43m \u001b[49m\u001b[43mnum_classes\u001b[49m\u001b[38;5;241;43m=\u001b[39;49m\u001b[38;5;241;43m20\u001b[39;49m\u001b[43m)\u001b[49m  \n\u001b[0;32m      3\u001b[0m y_validacao \u001b[38;5;241m=\u001b[39m to_categorical(z_validacao, num_classes\u001b[38;5;241m=\u001b[39m\u001b[38;5;241m20\u001b[39m)\n\u001b[0;32m      4\u001b[0m y_teste \u001b[38;5;241m=\u001b[39m to_categorical(z_teste, num_classes\u001b[38;5;241m=\u001b[39m\u001b[38;5;241m20\u001b[39m)\n",
      "File \u001b[1;32mc:\\Users\\Pedro\\AppData\\Local\\Programs\\Python\\Python312\\Lib\\site-packages\\keras\\src\\utils\\numerical_utils.py:99\u001b[0m, in \u001b[0;36mto_categorical\u001b[1;34m(x, num_classes)\u001b[0m\n\u001b[0;32m     97\u001b[0m batch_size \u001b[38;5;241m=\u001b[39m x\u001b[38;5;241m.\u001b[39mshape[\u001b[38;5;241m0\u001b[39m]\n\u001b[0;32m     98\u001b[0m categorical \u001b[38;5;241m=\u001b[39m np\u001b[38;5;241m.\u001b[39mzeros((batch_size, num_classes))\n\u001b[1;32m---> 99\u001b[0m \u001b[43mcategorical\u001b[49m\u001b[43m[\u001b[49m\u001b[43mnp\u001b[49m\u001b[38;5;241;43m.\u001b[39;49m\u001b[43marange\u001b[49m\u001b[43m(\u001b[49m\u001b[43mbatch_size\u001b[49m\u001b[43m)\u001b[49m\u001b[43m,\u001b[49m\u001b[43m \u001b[49m\u001b[43mx\u001b[49m\u001b[43m]\u001b[49m \u001b[38;5;241m=\u001b[39m \u001b[38;5;241m1\u001b[39m\n\u001b[0;32m    100\u001b[0m output_shape \u001b[38;5;241m=\u001b[39m input_shape \u001b[38;5;241m+\u001b[39m (num_classes,)\n\u001b[0;32m    101\u001b[0m categorical \u001b[38;5;241m=\u001b[39m np\u001b[38;5;241m.\u001b[39mreshape(categorical, output_shape)\n",
      "\u001b[1;31mIndexError\u001b[0m: index 20 is out of bounds for axis 1 with size 20"
     ]
    }
   ],
   "source": [
    "# Convertendo os rótulos para one-hot encoding\n",
    "y_treino = to_categorical(y_treino, num_classes=21)  \n",
    "y_validacao = to_categorical(y_validacao, num_classes=21)\n",
    "y_teste = to_categorical(y_teste, num_classes=21)"
   ]
  },
  {
   "cell_type": "code",
   "execution_count": null,
   "metadata": {},
   "outputs": [],
   "source": [
    "# Função para criar o modelo parametrizado\n",
    "def build_model(hp):\n",
    "    model = models.Sequential()\n",
    "    \n",
    "    # Camada Convolucional 1\n",
    "    model.add(layers.Conv2D(\n",
    "        filters=hp.Choice('filters_conv1', [32, 64]),\n",
    "        kernel_size=(3, 3),\n",
    "        activation='relu',\n",
    "        input_shape=(64, 64, 1)\n",
    "    ))\n",
    "    model.add(layers.MaxPooling2D((2, 2)))\n",
    "    \n",
    "    # Camada Convolucional 2\n",
    "    model.add(layers.Conv2D(\n",
    "        filters=hp.Choice('filters_conv2', [64, 128]),\n",
    "        kernel_size=(3, 3),\n",
    "        activation='relu'\n",
    "    ))\n",
    "    model.add(layers.MaxPooling2D((2, 2)))\n",
    "\n",
    "    # Camada Flatten\n",
    "    model.add(layers.Flatten())\n",
    "    \n",
    "    # Camada densa\n",
    "    model.add(layers.Dense(\n",
    "        units=hp.Choice('units_dense', [64, 128]),\n",
    "        activation='relu'\n",
    "    ))\n",
    "    \n",
    "    # Camada de saída\n",
    "    model.add(layers.Dense(21, activation='softmax'))\n",
    "\n",
    "    # Compilação\n",
    "    model.compile(\n",
    "        optimizer=tf.keras.optimizers.Adam(\n",
    "            learning_rate=hp.Choice('learning_rate', [1e-2, 1e-3])\n",
    "        ),\n",
    "        loss='categorical_crossentropy',\n",
    "        metrics=['accuracy']\n",
    "    )\n",
    "    return model"
   ]
  },
  {
   "cell_type": "code",
   "execution_count": null,
   "metadata": {},
   "outputs": [],
   "source": [
    "# Configurar o KerasTuner com parâmetros otimizados\n",
    "tuner = kt.Hyperband(\n",
    "    build_model,\n",
    "    objective='val_accuracy',\n",
    "    max_epochs=5,  \n",
    "    factor=3,     \n",
    "    directory='grid_search_fast',\n",
    "    project_name='cnn_fast'\n",
    ")\n",
    "\n",
    "# Callback para interromper caso não haja melhora\n",
    "stop_early = tf.keras.callbacks.EarlyStopping(monitor='val_loss', patience=2)\n",
    "\n",
    "# Realizar o Grid Search\n",
    "tuner.search(x_treino[:5000], y_treino[:5000], \n",
    "             epochs=5,\n",
    "             validation_data=(x_validacao[:1000], y_validacao[:1000]),\n",
    "             callbacks=[stop_early])\n",
    "\n",
    "# Obter os melhores hiperparâmetros\n",
    "best_hps = tuner.get_best_hyperparameters(num_trials=1)[0]\n",
    "\n",
    "print(f\"\"\"\n",
    "Melhores Hiperparâmetros:\n",
    "- Filtros na Camada 1: {best_hps.get('filters_conv1')}\n",
    "- Filtros na Camada 2: {best_hps.get('filters_conv2')}\n",
    "- Unidades na Camada Densa: {best_hps.get('units_dense')}\n",
    "- Taxa de Aprendizado: {best_hps.get('learning_rate')}\n",
    "\"\"\")"
   ]
  },
  {
   "cell_type": "code",
   "execution_count": null,
   "metadata": {},
   "outputs": [],
   "source": [
    "# Treinar modelo com os melhores hiperparâmetros\n",
    "best_model = tuner.hypermodel.build(best_hps)\n",
    "history = best_model.fit(\n",
    "    x_treino, y_treino,\n",
    "    epochs=10,\n",
    "    validation_data=(x_validacao, y_validacao)\n",
    ")"
   ]
  },
  {
   "cell_type": "code",
   "execution_count": null,
   "metadata": {},
   "outputs": [],
   "source": [
    "# Avaliar o modelo no conjunto de validação\n",
    "val_loss, val_acc = best_model.evaluate(x_validacao, y_validacao)\n",
    "print(f\"\\nAcurácia no conjunto de validação: {val_acc * 100:.2f}%\")\n",
    "\n",
    "# Avaliar o modelo no conjunto de teste\n",
    "teste_loss, teste_acc = best_model.evaluate(x_teste, y_teste)\n",
    "print(f\"Acurácia no conjunto de teste: {teste_acc * 100:.2f}%\")"
   ]
  }
 ],
 "metadata": {
  "kernelspec": {
   "display_name": "Python 3",
   "language": "python",
   "name": "python3"
  },
  "language_info": {
   "codemirror_mode": {
    "name": "ipython",
    "version": 3
   },
   "file_extension": ".py",
   "mimetype": "text/x-python",
   "name": "python",
   "nbconvert_exporter": "python",
   "pygments_lexer": "ipython3",
   "version": "3.12.3"
  }
 },
 "nbformat": 4,
 "nbformat_minor": 2
}
