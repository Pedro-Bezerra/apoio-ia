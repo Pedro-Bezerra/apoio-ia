{
 "cells": [
  {
   "cell_type": "markdown",
   "metadata": {},
   "source": [
    "Projeto de Inteligência Artifical voltado para o Reconhecimento da Datilologia\n",
    "\n",
    "Grupo: Alina Tainá Germano Costa, Júlia de Oliveira Tavares, Lucas Emanuel Camilo Bezerra e Pedro Henrique Correia Bezerra Silva"
   ]
  },
  {
   "cell_type": "code",
   "execution_count": 7,
   "metadata": {},
   "outputs": [],
   "source": [
    "import os\n",
    "import numpy as np\n",
    "from PIL import Image\n",
    "from matplotlib import pyplot as plt\n",
    "from sklearn.model_selection import train_test_split"
   ]
  },
  {
   "cell_type": "code",
   "execution_count": 8,
   "metadata": {},
   "outputs": [],
   "source": [
    "letras_mapping = {\"A\": 1, \"B\": 2, \"C\": 3, \"D\": 4, \"E\": 5, \"F\": 6, \"G\": 7, \"I\": 9, \"L\": 12, \"M\": 13, \"N\": 14, \"O\": 15, \"P\": 16, \"Q\": 17, \"R\": 18, \"S\": 19, \"T\": 20, \"U\": 21, \"V\": 22, \"W\": 23, \"Y\": 25}\n",
    "IMG_SIZE = (64, 64)  \n",
    "\n",
    "def load_data_from_folders(base_path, img_size):\n",
    "    imagens = []\n",
    "    labels = []\n",
    "    numeros = []\n",
    "    for letra, numero in letras_mapping.items():\n",
    "        pasta = os.path.join(base_path, letra)\n",
    "        for arquivo in os.listdir(pasta):\n",
    "            caminho_arquivo = os.path.join(pasta, arquivo)\n",
    "            imagem = Image.open(caminho_arquivo).convert('L').resize(img_size)\n",
    "            imagens.append(np.array(imagem).flatten() / 255.0)\n",
    "            labels.append(letra)\n",
    "            numeros.append(numero)\n",
    "    return np.array(imagens), np.array(labels), np.array(numeros)\n",
    "\n",
    "x_train, y_train, z_train = load_data_from_folders(\"datilologia/train\", IMG_SIZE)\n",
    "x_test, y_test, z_test = load_data_from_folders(\"datilologia/test\", IMG_SIZE)\n",
    "\n",
    "imagens_treino, imagens_validacao, rotulos_treino, rotulos_validacao = train_test_split(x_train, y_train, test_size=0.2, random_state=42)\n",
    "numeros_treino = z_train[:len(imagens_treino)]\n",
    "numeros_validacao = z_train[len(imagens_treino):]"
   ]
  },
  {
   "cell_type": "code",
   "execution_count": null,
   "metadata": {},
   "outputs": [],
   "source": [
    "print(x_train)\n",
    "print(x_test)\n",
    "print(z_test)"
   ]
  },
  {
   "cell_type": "code",
   "execution_count": 10,
   "metadata": {},
   "outputs": [],
   "source": [
    "np.save('x_treino.npy', x_train)\n",
    "np.save('y_treino.npy', y_train)\n",
    "np.save('z_treino.npy', z_train)\n",
    "\n",
    "np.save('x_validacao.npy', imagens_validacao)\n",
    "np.save('y_validacao.npy', rotulos_validacao)\n",
    "np.save('z_validacao.npy', numeros_validacao)\n",
    "\n",
    "\n",
    "np.save('x_teste.npy', x_test)\n",
    "np.save('y_teste.npy', y_test)\n",
    "np.save('z_teste.npy', z_test)"
   ]
  },
  {
   "cell_type": "code",
   "execution_count": null,
   "metadata": {},
   "outputs": [],
   "source": [
    "indice = 0  \n",
    "imagem = x_train[indice].reshape(64, 64)  \n",
    "rotulo = y_train[indice]\n",
    "\n",
    "plt.imshow(imagem, cmap='gray')\n",
    "plt.title(f\"Letra: {rotulo}\")\n",
    "plt.axis('off')  \n",
    "plt.show()\n"
   ]
  }
 ],
 "metadata": {
  "kernelspec": {
   "display_name": "Python 3",
   "language": "python",
   "name": "python3"
  },
  "language_info": {
   "codemirror_mode": {
    "name": "ipython",
    "version": 3
   },
   "file_extension": ".py",
   "mimetype": "text/x-python",
   "name": "python",
   "nbconvert_exporter": "python",
   "pygments_lexer": "ipython3",
   "version": "3.12.3"
  }
 },
 "nbformat": 4,
 "nbformat_minor": 2
}
